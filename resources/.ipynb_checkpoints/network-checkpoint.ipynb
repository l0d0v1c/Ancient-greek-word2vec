{
 "cells": [
  {
   "cell_type": "code",
   "execution_count": 7,
   "id": "8757517e",
   "metadata": {},
   "outputs": [],
   "source": [
    "import networkx as nx\n",
    "from gensim.models import Word2Vec\n",
    "import pandas as pd\n",
    "\n"
   ]
  },
  {
   "cell_type": "code",
   "execution_count": 33,
   "id": "48c43180",
   "metadata": {},
   "outputs": [],
   "source": [
    "def netx(mdl):\n",
    "    model=Word2Vec.load(mdl)\n",
    "    G = nx.Graph()\n",
    "    G.add_nodes_from([w for w,_ in model.wv.key_to_index.items()])\n",
    "    for w,_ in model.wv.key_to_index.items():\n",
    "        s=model.wv.most_similar(w, topn=20)\n",
    "        for m,_ in s:\n",
    "            G.add_edge(w,m)\n",
    "    d=[[w,G.degree[w]] for w,_ in model.wv.key_to_index.items()]\n",
    "    degree=pd.DataFrame(d,columns=['Lemma','degree'])\n",
    "    degree.sort_values(by=['degree'], ascending=False,inplace=True)\n",
    "    return degree"
   ]
  },
  {
   "cell_type": "code",
   "execution_count": 36,
   "id": "9495cf2e",
   "metadata": {},
   "outputs": [],
   "source": [
    "for m in [\"../greek300mc2CBOW.vec\",\"../nov2022RW.vec\"]:\n",
    "    res=netx(m)\n",
    "    res.to_excel(f\"{m[3:-3]}xlsx\")"
   ]
  },
  {
   "cell_type": "code",
   "execution_count": 25,
   "id": "569d9967",
   "metadata": {},
   "outputs": [],
   "source": []
  },
  {
   "cell_type": "code",
   "execution_count": null,
   "id": "b33cb795",
   "metadata": {},
   "outputs": [],
   "source": []
  },
  {
   "cell_type": "code",
   "execution_count": null,
   "id": "42a3e351",
   "metadata": {},
   "outputs": [],
   "source": [
    "\n",
    "    \n",
    "    \n",
    "    "
   ]
  }
 ],
 "metadata": {
  "kernelspec": {
   "display_name": "Python 3 (ipykernel)",
   "language": "python",
   "name": "python3"
  },
  "language_info": {
   "codemirror_mode": {
    "name": "ipython",
    "version": 3
   },
   "file_extension": ".py",
   "mimetype": "text/x-python",
   "name": "python",
   "nbconvert_exporter": "python",
   "pygments_lexer": "ipython3",
   "version": "3.11.0"
  }
 },
 "nbformat": 4,
 "nbformat_minor": 5
}

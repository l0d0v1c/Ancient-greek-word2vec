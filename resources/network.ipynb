{
 "cells": [
  {
   "cell_type": "code",
   "execution_count": 7,
   "id": "0f5c273e",
   "metadata": {},
   "outputs": [],
   "source": [
    "import networkx as nx\n",
    "from gensim.models import Word2Vec\n",
    "import pandas as pd\n",
    "\n"
   ]
  },
  {
   "cell_type": "code",
   "execution_count": 37,
   "id": "fc8abbb6",
   "metadata": {},
   "outputs": [],
   "source": [
    "def netx(mdl):\n",
    "    model=Word2Vec.load(mdl)\n",
    "    G = nx.Graph()\n",
    "    G.add_nodes_from([w for w,_ in model.wv.key_to_index.items()])\n",
    "    for w,_ in model.wv.key_to_index.items():\n",
    "        s=model.wv.most_similar(w, topn=10)\n",
    "        for m,_ in s:\n",
    "            G.add_edge(w,m)\n",
    "    d=[[w,G.degree[w]] for w,_ in model.wv.key_to_index.items()]\n",
    "    degree=pd.DataFrame(d,columns=['Lemma','degree'])\n",
    "    degree.sort_values(by=['degree'], ascending=False,inplace=True)\n",
    "    return degree"
   ]
  },
  {
   "cell_type": "code",
   "execution_count": 38,
   "id": "e2b2b49b",
   "metadata": {},
   "outputs": [],
   "source": [
    "for m in [\"../greek300mc2CBOW.vec\",\"../nov2022RW.vec\"]:\n",
    "    res=netx(m)\n",
    "    res.to_excel(f\"{m[3:-3]}xlsx\")"
   ]
  },
  {
   "cell_type": "code",
   "execution_count": 25,
   "id": "586a5872",
   "metadata": {},
   "outputs": [],
   "source": []
  },
  {
   "cell_type": "code",
   "execution_count": null,
   "id": "20db40d9",
   "metadata": {},
   "outputs": [],
   "source": []
  },
  {
   "cell_type": "code",
   "execution_count": null,
   "id": "b21948e4",
   "metadata": {},
   "outputs": [],
   "source": [
    "\n",
    "    \n",
    "    \n",
    "    "
   ]
  }
 ],
 "metadata": {
  "kernelspec": {
   "display_name": "Python 3 (ipykernel)",
   "language": "python",
   "name": "python3"
  },
  "language_info": {
   "codemirror_mode": {
    "name": "ipython",
    "version": 3
   },
   "file_extension": ".py",
   "mimetype": "text/x-python",
   "name": "python",
   "nbconvert_exporter": "python",
   "pygments_lexer": "ipython3",
   "version": "3.11.0"
  }
 },
 "nbformat": 4,
 "nbformat_minor": 5
}

{
 "cells": [
  {
   "cell_type": "code",
   "execution_count": 2,
   "id": "c16c940e",
   "metadata": {},
   "outputs": [
    {
     "name": "stdout",
     "output_type": "stream",
     "text": [
      "Requirement already satisfied: gensim in /Users/pro/mambaforge/envs/llama/lib/python3.11/site-packages (4.3.1)\r\n",
      "Requirement already satisfied: numpy>=1.18.5 in /Users/pro/mambaforge/envs/llama/lib/python3.11/site-packages (from gensim) (1.24.0)\r\n",
      "Requirement already satisfied: scipy>=1.7.0 in /Users/pro/mambaforge/envs/llama/lib/python3.11/site-packages (from gensim) (1.10.1)\r\n",
      "Requirement already satisfied: smart-open>=1.8.1 in /Users/pro/mambaforge/envs/llama/lib/python3.11/site-packages (from gensim) (6.3.0)\r\n"
     ]
    }
   ],
   "source": [
    "from ipywidgets import HTML,Text,HBox,VBox,Button,Dropdown\n",
    "from IPython.display import display\n",
    "!pip install gensim\n",
    "from gensim.models import Word2Vec\n",
    "model = Word2Vec.load(\"gr10.vec\")"
   ]
  },
  {
   "cell_type": "code",
   "execution_count": null,
   "id": "20e7b0db",
   "metadata": {},
   "outputs": [],
   "source": []
  },
  {
   "cell_type": "code",
   "execution_count": 68,
   "id": "0bfeb715",
   "metadata": {},
   "outputs": [
    {
     "data": {
      "application/vnd.jupyter.widget-view+json": {
       "model_id": "bcd84ebc37c241a3b34528f6544f4311",
       "version_major": 2,
       "version_minor": 0
      },
      "text/plain": [
       "HTML(value='\\n<style>\\n.tbl {width:80%}\\n</style>\\n')"
      ]
     },
     "metadata": {},
     "output_type": "display_data"
    }
   ],
   "source": [
    "display(HTML('''\n",
    "<style>\n",
    ".tbl {width:80%}\n",
    "</style>\n",
    "'''))\n"
   ]
  },
  {
   "cell_type": "code",
   "execution_count": 69,
   "id": "e9a3774c",
   "metadata": {},
   "outputs": [],
   "source": [
    "def expl(c):\n",
    "    W.value='πόνος'\n",
    "    gosim(c)"
   ]
  },
  {
   "cell_type": "code",
   "execution_count": 70,
   "id": "5d9d58ec",
   "metadata": {},
   "outputs": [],
   "source": [
    "import glob\n",
    "mchoice=Dropdown(options=glob.glob('*.vec'), description=\"Model size\", value='gr10.vec')\n",
    "\n",
    "def on_change(change):\n",
    "    global model\n",
    "    if change['type'] == 'change' and change['name'] == 'value':\n",
    "        model=Word2Vec.load(change['new'])\n",
    "\n",
    "mchoice.observe(on_change)\n",
    "\n"
   ]
  },
  {
   "cell_type": "code",
   "execution_count": 71,
   "id": "6b989c6f",
   "metadata": {},
   "outputs": [],
   "source": [
    "def gosim(c):\n",
    "    try:\n",
    "        r=model.wv.most_similar(W.value, topn=20)\n",
    "        output=\"<table class='tbl'>\"\n",
    "        for m,s in r:\n",
    "            output+=f\"<tr><td>{m}</td><td>{s:.2f}</td></tr>\"\n",
    "        output+='</table>'\n",
    "    except:\n",
    "        output=\"Unknown word\"\n",
    "    Out.value=output"
   ]
  },
  {
   "cell_type": "code",
   "execution_count": 72,
   "id": "4eeda0b4",
   "metadata": {},
   "outputs": [],
   "source": [
    "W=Text(description=\"Word in greek\")\n",
    "B=Button(description=\"Similarity\")\n",
    "Be=Button(description=\"Example\")\n",
    "B.on_click(gosim)\n",
    "Be.on_click(expl)\n",
    "Out=HTML(\"\")\n"
   ]
  },
  {
   "cell_type": "code",
   "execution_count": null,
   "id": "e4bec728",
   "metadata": {},
   "outputs": [],
   "source": []
  },
  {
   "cell_type": "code",
   "execution_count": 73,
   "id": "458c57a8",
   "metadata": {},
   "outputs": [],
   "source": [
    "def infer(c):\n",
    "    try:\n",
    "        r=model.wv.most_similar(positive=positive.value.split(' '), negative=negative.value.split(' '))\n",
    "        output=\"<table class='tbl'>\"\n",
    "        for m,s in r:\n",
    "            output+=f\"<tr><td>{m}</td><td>{s:.2f}</td></tr>\"\n",
    "        output+='</table>'\n",
    "    except:\n",
    "        output=\"Some words are unknown\"\n",
    "    Out.value=output\n",
    "    \n",
    "def expl2(c):\n",
    "    positive.value=\"πόνος γυνή\"\n",
    "    negative.value=\"ἀνήρ\"\n",
    "    infer(c)\n",
    "\n",
    "    "
   ]
  },
  {
   "cell_type": "code",
   "execution_count": 74,
   "id": "50654a5c",
   "metadata": {},
   "outputs": [],
   "source": [
    "positive=Text(description=\"Positive\")\n",
    "negative=Text(description=\"Negative\")\n",
    "BB=Button(description=\"Infer\")\n",
    "BBe=Button(description='example')\n",
    "Out2=HTML(\"\")\n",
    "BB.on_click(infer)\n",
    "BBe.on_click(expl2)\n"
   ]
  },
  {
   "cell_type": "code",
   "execution_count": 75,
   "id": "d41dcd51",
   "metadata": {},
   "outputs": [
    {
     "data": {
      "application/vnd.jupyter.widget-view+json": {
       "model_id": "2dd64aab699f40c9bba34c90e0cb2ed2",
       "version_major": 2,
       "version_minor": 0
      },
      "text/plain": [
       "VBox(children=(Dropdown(description='Model size', index=1, options=('gr75.vec', 'gr10.vec', 'gr20.vec', 'gr100…"
      ]
     },
     "execution_count": 75,
     "metadata": {},
     "output_type": "execute_result"
    }
   ],
   "source": [
    "VBox([mchoice,HTML(\"<h1>Word similarity</h1>\"),\n",
    "      VBox([HBox([W,B,Be])]),\n",
    "      HTML(\"<h1>Sense addition</h1>\"),\n",
    "      VBox([HBox([positive,negative]),HBox([BB,BBe]),Out])])"
   ]
  },
  {
   "cell_type": "code",
   "execution_count": null,
   "id": "052730c0",
   "metadata": {},
   "outputs": [],
   "source": []
  },
  {
   "cell_type": "code",
   "execution_count": null,
   "id": "86d24987",
   "metadata": {},
   "outputs": [],
   "source": []
  },
  {
   "cell_type": "code",
   "execution_count": null,
   "id": "d5b621c8",
   "metadata": {},
   "outputs": [],
   "source": []
  }
 ],
 "metadata": {
  "kernelspec": {
   "display_name": "Python 3 (ipykernel)",
   "language": "python",
   "name": "python3"
  },
  "language_info": {
   "codemirror_mode": {
    "name": "ipython",
    "version": 3
   },
   "file_extension": ".py",
   "mimetype": "text/x-python",
   "name": "python",
   "nbconvert_exporter": "python",
   "pygments_lexer": "ipython3",
   "version": "3.11.0"
  }
 },
 "nbformat": 4,
 "nbformat_minor": 5
}

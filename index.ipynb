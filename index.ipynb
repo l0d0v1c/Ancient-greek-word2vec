{
 "cells": [
  {
   "cell_type": "code",
   "execution_count": 1,
   "id": "c16c940e",
   "metadata": {},
   "outputs": [],
   "source": [
    "from ipywidgets import HTML,Text,HBox,VBox,Button,Dropdown\n",
    "from IPython.display import display,Javascript\n",
    "from gensim.models import Word2Vec\n",
    "model = Word2Vec.load(\"grf8_300.vec\")"
   ]
  },
  {
   "cell_type": "code",
   "execution_count": null,
   "id": "20e7b0db",
   "metadata": {},
   "outputs": [],
   "source": []
  },
  {
   "cell_type": "code",
   "execution_count": 2,
   "id": "0bfeb715",
   "metadata": {},
   "outputs": [
    {
     "data": {
      "application/vnd.jupyter.widget-view+json": {
       "model_id": "58c366aee16447069207f069bbde0f87",
       "version_major": 2,
       "version_minor": 0
      },
      "text/plain": [
       "HTML(value='\\n<style>\\n.tbl {width:80%}\\n</style>\\n')"
      ]
     },
     "metadata": {},
     "output_type": "display_data"
    }
   ],
   "source": [
    "display(HTML('''\n",
    "<style>\n",
    ".tbl {width:80%}\n",
    "lem {cursor:pointer;}\n",
    "</style>\n",
    "\n",
    "'''))\n"
   ]
  },
  {
   "cell_type": "code",
   "execution_count": null,
   "id": "c968ef94",
   "metadata": {},
   "outputs": [],
   "source": [
    "Javascript(\"\"\"\n",
    "function bailly(w){mot=w.innerHTML;window.open('https://bailly.app/q='+mot, '_blank').focus();}\n",
    "\n",
    "\"\"\")"
   ]
  },
  {
   "cell_type": "code",
   "execution_count": 3,
   "id": "e9a3774c",
   "metadata": {},
   "outputs": [],
   "source": [
    "def expl(c):\n",
    "    W.value='πόνος'\n",
    "    gosim(c)"
   ]
  },
  {
   "cell_type": "code",
   "execution_count": 4,
   "id": "5d9d58ec",
   "metadata": {},
   "outputs": [],
   "source": [
    "import glob\n",
    "mchoice=Dropdown(options=glob.glob('*.vec'), description=\"Model size\", value='grf8_300.vec')\n",
    "\n",
    "def on_change(change):\n",
    "    global model\n",
    "    if change['type'] == 'change' and change['name'] == 'value':\n",
    "        model=Word2Vec.load(change['new'])\n",
    "\n",
    "mchoice.observe(on_change)\n",
    "\n"
   ]
  },
  {
   "cell_type": "code",
   "execution_count": 5,
   "id": "6b989c6f",
   "metadata": {},
   "outputs": [],
   "source": [
    "def gosim(c):\n",
    "    try:\n",
    "        r=model.wv.most_similar(W.value, topn=20)\n",
    "        output=\"<table class='tbl'>\"\n",
    "        for m,s in r:\n",
    "            output+=f\"<tr><td><lem onclick='bailly(this)'>{m}</lem></td><td>{s:.2f}</td></tr>\"\n",
    "        output+='</table>'\n",
    "    except:\n",
    "        output=\"Unknown word\"\n",
    "    Out.value=output"
   ]
  },
  {
   "cell_type": "code",
   "execution_count": 6,
   "id": "4eeda0b4",
   "metadata": {},
   "outputs": [],
   "source": [
    "W=Text(description=\"Word in greek\")\n",
    "B=Button(description=\"Similarity\")\n",
    "Be=Button(description=\"Example\")\n",
    "B.on_click(gosim)\n",
    "Be.on_click(expl)\n",
    "Out=HTML(\"\")\n"
   ]
  },
  {
   "cell_type": "code",
   "execution_count": null,
   "id": "e4bec728",
   "metadata": {},
   "outputs": [],
   "source": []
  },
  {
   "cell_type": "code",
   "execution_count": 7,
   "id": "458c57a8",
   "metadata": {},
   "outputs": [],
   "source": [
    "def infer(c):\n",
    "    try:\n",
    "        r=model.wv.most_similar(positive=positive.value.split(' '), negative=negative.value.split(' '))\n",
    "        output=\"<table class='tbl'>\"\n",
    "        for m,s in r:\n",
    "            output+=f\"<tr><td><lem onclick='bailly(this)'>{m}</lem></td><td>{s:.2f}</td></tr>\"\n",
    "        output+='</table>'\n",
    "    except:\n",
    "        output=\"Some words are unknown\"\n",
    "    Out.value=output\n",
    "    \n",
    "def expl2(c):\n",
    "    positive.value=\"πόνος γυνή\"\n",
    "    negative.value=\"ἀνήρ\"\n",
    "    infer(c)\n",
    "\n",
    "    "
   ]
  },
  {
   "cell_type": "code",
   "execution_count": 8,
   "id": "50654a5c",
   "metadata": {},
   "outputs": [],
   "source": [
    "positive=Text(description=\"Positive\")\n",
    "negative=Text(description=\"Negative\")\n",
    "BB=Button(description=\"Infer\")\n",
    "BBe=Button(description='example')\n",
    "Out2=HTML(\"\")\n",
    "BB.on_click(infer)\n",
    "BBe.on_click(expl2)\n"
   ]
  },
  {
   "cell_type": "code",
   "execution_count": 9,
   "id": "d41dcd51",
   "metadata": {},
   "outputs": [
    {
     "data": {
      "application/vnd.jupyter.widget-view+json": {
       "model_id": "c91d771420df42e18424cf024b43828c",
       "version_major": 2,
       "version_minor": 0
      },
      "text/plain": [
       "VBox(children=(Dropdown(description='Model size', index=3, options=('gr75.vec', 'grf850.vec', 'grf820.vec', 'g…"
      ]
     },
     "execution_count": 9,
     "metadata": {},
     "output_type": "execute_result"
    }
   ],
   "source": [
    "VBox([mchoice,HTML(\"<h1>Word similarity</h1>\"),\n",
    "      VBox([HBox([W,B,Be])]),\n",
    "      HTML(\"<h1>Sense addition</h1>\"),\n",
    "      VBox([HBox([positive,negative]),HBox([BB,BBe]),Out])])"
   ]
  },
  {
   "cell_type": "code",
   "execution_count": null,
   "id": "052730c0",
   "metadata": {},
   "outputs": [],
   "source": []
  },
  {
   "cell_type": "code",
   "execution_count": null,
   "id": "86d24987",
   "metadata": {},
   "outputs": [],
   "source": []
  },
  {
   "cell_type": "code",
   "execution_count": null,
   "id": "d5b621c8",
   "metadata": {},
   "outputs": [],
   "source": []
  }
 ],
 "metadata": {
  "kernelspec": {
   "display_name": "Python 3 (ipykernel)",
   "language": "python",
   "name": "python3"
  },
  "language_info": {
   "codemirror_mode": {
    "name": "ipython",
    "version": 3
   },
   "file_extension": ".py",
   "mimetype": "text/x-python",
   "name": "python",
   "nbconvert_exporter": "python",
   "pygments_lexer": "ipython3",
   "version": "3.11.0"
  }
 },
 "nbformat": 4,
 "nbformat_minor": 5
}

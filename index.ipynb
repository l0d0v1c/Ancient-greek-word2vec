{
 "cells": [
  {
   "cell_type": "markdown",
   "id": "b1ecc5e0",
   "metadata": {},
   "source": [
    "# Ancient Greek Latent Space\n",
    "Word2vec of lemmatized ancient greek - MIT Licence - 2023"
   ]
  },
  {
   "cell_type": "code",
   "execution_count": 34,
   "id": "c16c940e",
   "metadata": {},
   "outputs": [],
   "source": [
    "from ipywidgets import HTML,Text,HBox,VBox,Button,Dropdown\n",
    "from IPython.display import display,Javascript\n",
    "from gensim.models import Word2Vec\n",
    "import base64\n",
    "model = Word2Vec.load(\"grf8_300.vec\")"
   ]
  },
  {
   "cell_type": "code",
   "execution_count": null,
   "id": "20e7b0db",
   "metadata": {},
   "outputs": [],
   "source": []
  },
  {
   "cell_type": "code",
   "execution_count": 35,
   "id": "0bfeb715",
   "metadata": {},
   "outputs": [
    {
     "data": {
      "application/vnd.jupyter.widget-view+json": {
       "model_id": "377d6b49544545cfbd737a36ca82939d",
       "version_major": 2,
       "version_minor": 0
      },
      "text/plain": [
       "HTML(value='\\n<style>\\n.tbl {width:80%}\\nlem {cursor:pointer;}\\n</style>\\n\\n')"
      ]
     },
     "metadata": {},
     "output_type": "display_data"
    }
   ],
   "source": [
    "display(HTML('''\n",
    "<style>\n",
    ".tbl {width:80%}\n",
    "lem {cursor:pointer;}\n",
    "</style>\n",
    "\n",
    "'''))\n"
   ]
  },
  {
   "cell_type": "code",
   "execution_count": 36,
   "id": "c968ef94",
   "metadata": {},
   "outputs": [
    {
     "data": {
      "application/javascript": [
       "\n",
       "function bailly(w){mot=w.innerHTML;window.open('https://bailly.app/q='+mot, '_blank').focus();}\n",
       "\n"
      ],
      "text/plain": [
       "<IPython.core.display.Javascript object>"
      ]
     },
     "execution_count": 36,
     "metadata": {},
     "output_type": "execute_result"
    }
   ],
   "source": [
    "Javascript(\"\"\"\n",
    "function bailly(w){mot=w.innerHTML;window.open('https://bailly.app/q='+mot, '_blank').focus();}\n",
    "\n",
    "\"\"\")"
   ]
  },
  {
   "cell_type": "code",
   "execution_count": 37,
   "id": "e9a3774c",
   "metadata": {},
   "outputs": [],
   "source": [
    "def expl(c):\n",
    "    W.value='πόνος'\n",
    "    gosim(c)"
   ]
  },
  {
   "cell_type": "code",
   "execution_count": 38,
   "id": "5d9d58ec",
   "metadata": {},
   "outputs": [],
   "source": [
    "import glob\n",
    "mchoice=Dropdown(options=glob.glob('*.vec'), description=\"Model size\", value='grf8_300.vec')\n",
    "\n",
    "def on_change(change):\n",
    "    global model\n",
    "    if change['type'] == 'change' and change['name'] == 'value':\n",
    "        model=Word2Vec.load(change['new'])\n",
    "\n",
    "mchoice.observe(on_change)\n",
    "\n"
   ]
  },
  {
   "cell_type": "code",
   "execution_count": 43,
   "id": "ffcccdb1",
   "metadata": {},
   "outputs": [],
   "source": [
    "def link(w='πόνος',level=2):\n",
    "\n",
    "    if level==0:\n",
    "        return 1\n",
    "    else:      \n",
    "        r=model.wv.most_similar(w, topn=5)\n",
    "        return [[f\"{w}->{i}\",link(w=i,level=level-1)] for i,_ in r]\n",
    "\n",
    "graph=\"\"\n",
    "nodes={}\n",
    "it=0\n",
    "idx=0\n",
    "def grap(c):\n",
    "    global nodes,it,graph,idx\n",
    "    mot=W.value\n",
    "    graph=\"\"\n",
    "    nodes={}\n",
    "    it=0\n",
    "    idx=0\n",
    "\n",
    "    def visit_nodes(x):\n",
    "        global nodes,it,graph,idx\n",
    "        if type(x) != list:\n",
    "            if x!=1:\n",
    "                n=x.split('->')\n",
    "                for nn in n:\n",
    "                    if nn not in nodes:\n",
    "                        nodes[nn]=f\"N{it}\"\n",
    "                        it+=1\n",
    "\n",
    "                graph+=f'{{id:\"{idx}\", from:\"{nodes[n[0]]}\", to:\"{nodes[n[1]]}\"}},'\n",
    "                idx+=1\n",
    "            return\n",
    "\n",
    "        for element in x:\n",
    "            visit_nodes(element)\n",
    "\n",
    "    \n",
    "    visit_nodes(link(w=mot,level=3))\n",
    "    nodesi={j:i for i,j in nodes.items()}\n",
    "\n",
    "\n",
    "    total=\"\"\n",
    "    for j,i in nodes.items():\n",
    "        total+=f'{{id:\"{i}\", label:\"{j}\"}},'\n",
    "    template=\"\"\"\n",
    "    <head>\n",
    "    <script src=\"https://visjs.github.io/vis-network/standalone/umd/vis-network.min.js\"></script>\n",
    "\n",
    "     <script type=\"text/javascript\">\n",
    "          var nodes, edges, network;\n",
    "\n",
    "\n",
    "\n",
    "         function draw() {\n",
    "            // create an array with nodes\n",
    "            nodes = new vis.DataSet();\n",
    "\n",
    "            nodes.add([@nodes@\n",
    "            ]);\n",
    "\n",
    "            // create an array with edges\n",
    "            edges = new vis.DataSet();\n",
    "\n",
    "            edges.add([@edges@        \n",
    "            ]);\n",
    "\n",
    "            // create a network\n",
    "            var container = document.getElementById(\"mynetwork\");\n",
    "            var data = {\n",
    "              nodes: nodes,\n",
    "              edges: edges,\n",
    "            };\n",
    "            var options = {};\n",
    "            network = new vis.Network(container, data, options);\n",
    "          }\n",
    "\n",
    "        </script>\n",
    "    </head>\n",
    "\n",
    "    <body onload=\"draw()\">\n",
    "\n",
    "    <div id=\"mynetwork\" style=\"width:100%;height:800px\"><div>\t\n",
    "\n",
    "\n",
    "    </body>\"\"\"\n",
    "\n",
    "    template=template.replace(\"@nodes@\",total[:-1])\n",
    "    template=template.replace(\"@edges@\",graph[:-1])\n",
    "    url=\"data:text/html;base64,\"+base64.b64encode(template.encode(\"utf-16\")).decode()\n",
    "    \n",
    "    outp=f'<a href=\"{url}\" download=\"{mot}.html\" style=\"text-align:right;padding-right:10px;float:right;\">Download</a>'\n",
    "    outp+=f'<iframe src=\"{url}\" style=\"width:100%;height:1200px\" frameborder=\"0\" scrolling=\"no\"></iframe>'\n",
    "    Out.value=outp\n",
    "\n"
   ]
  },
  {
   "cell_type": "code",
   "execution_count": 44,
   "id": "6b989c6f",
   "metadata": {},
   "outputs": [],
   "source": [
    "def gosim(c):\n",
    "    try:\n",
    "        r=model.wv.most_similar(W.value, topn=20)\n",
    "        output=\"<table class='tbl'>\"\n",
    "        for m,s in r:\n",
    "            output+=f\"<tr><td><lem onclick='bailly(this)'>{m}</lem></td><td>{s:.2f}</td></tr>\"\n",
    "        output+='</table>'\n",
    "    except:\n",
    "        output=\"Unknown word\"\n",
    "    Out.value=output"
   ]
  },
  {
   "cell_type": "code",
   "execution_count": 41,
   "id": "4eeda0b4",
   "metadata": {},
   "outputs": [],
   "source": [
    "W=Text(description=\"Word in greek\")\n",
    "B=Button(description=\"Similarity\")\n",
    "Be=Button(description=\"Example\")\n",
    "Bg=Button(description=\"Graph\")\n",
    "B.on_click(gosim)\n",
    "Be.on_click(expl)\n",
    "Bg.on_click(grap)\n",
    "Out=HTML(\"\")\n"
   ]
  },
  {
   "cell_type": "code",
   "execution_count": null,
   "id": "e4bec728",
   "metadata": {},
   "outputs": [],
   "source": []
  },
  {
   "cell_type": "code",
   "execution_count": 42,
   "id": "458c57a8",
   "metadata": {},
   "outputs": [],
   "source": [
    "def infer(c):\n",
    "    try:\n",
    "        r=model.wv.most_similar(positive=positive.value.split(' '), negative=negative.value.split(' '))\n",
    "        output=\"<table class='tbl'>\"\n",
    "        for m,s in r:\n",
    "            output+=f\"<tr><td><lem onclick='bailly(this)'>{m}</lem></td><td>{s:.2f}</td></tr>\"\n",
    "        output+='</table>'\n",
    "    except:\n",
    "        output=\"Some words are unknown\"\n",
    "    Out.value=output\n",
    "    \n",
    "def expl2(c):\n",
    "    positive.value=\"πόνος γυνή\"\n",
    "    negative.value=\"ἀνήρ\"\n",
    "    infer(c)\n",
    "\n",
    "    "
   ]
  },
  {
   "cell_type": "code",
   "execution_count": 31,
   "id": "50654a5c",
   "metadata": {},
   "outputs": [],
   "source": [
    "positive=Text(description=\"Positive\")\n",
    "negative=Text(description=\"Negative\")\n",
    "BB=Button(description=\"Infer\")\n",
    "BBe=Button(description='example')\n",
    "Out2=HTML(\"\")\n",
    "BB.on_click(infer)\n",
    "BBe.on_click(expl2)\n"
   ]
  },
  {
   "cell_type": "code",
   "execution_count": 32,
   "id": "d41dcd51",
   "metadata": {},
   "outputs": [
    {
     "data": {
      "application/vnd.jupyter.widget-view+json": {
       "model_id": "54324a8b1ea146ca998e55ad97c92047",
       "version_major": 2,
       "version_minor": 0
      },
      "text/plain": [
       "VBox(children=(Dropdown(description='Model size', index=1, options=('gr75.vec', 'grf8_300.vec', 'gr10.vec', 'g…"
      ]
     },
     "execution_count": 32,
     "metadata": {},
     "output_type": "execute_result"
    }
   ],
   "source": [
    "VBox([mchoice,HTML(\"<h1>Word similarity</h1>\"),\n",
    "      VBox([HBox([W,B,Be,Bg])]),\n",
    "      HTML(\"<h1>Sense addition</h1>\"),\n",
    "      VBox([HBox([positive,negative]),HBox([BB,BBe]),Out])])"
   ]
  },
  {
   "cell_type": "code",
   "execution_count": null,
   "id": "052730c0",
   "metadata": {},
   "outputs": [],
   "source": []
  },
  {
   "cell_type": "code",
   "execution_count": null,
   "id": "86d24987",
   "metadata": {},
   "outputs": [],
   "source": []
  },
  {
   "cell_type": "code",
   "execution_count": null,
   "id": "d5b621c8",
   "metadata": {},
   "outputs": [],
   "source": []
  }
 ],
 "metadata": {
  "kernelspec": {
   "display_name": "Python 3 (ipykernel)",
   "language": "python",
   "name": "python3"
  },
  "language_info": {
   "codemirror_mode": {
    "name": "ipython",
    "version": 3
   },
   "file_extension": ".py",
   "mimetype": "text/x-python",
   "name": "python",
   "nbconvert_exporter": "python",
   "pygments_lexer": "ipython3",
   "version": "3.11.0"
  }
 },
 "nbformat": 4,
 "nbformat_minor": 5
}
